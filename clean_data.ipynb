{
 "cells": [
  {
   "cell_type": "code",
   "execution_count": null,
   "metadata": {},
   "outputs": [],
   "source": [
    "import pandas as pd\n",
    "from matplotlib.backends.backend_pdf import PdfPages\n",
    "import matplotlib.pyplot as plt\n",
    "from matplotlib.font_manager import FontProperties\n",
    "\n",
    "\n",
    "\n",
    "# Read and store content \n",
    "# of an excel file  \n",
    "read_file = pd.read_excel (\"Test.xlsx\", engine='openpyxl') \n",
    "  \n",
    "# Write the dataframe object \n",
    "# into csv file \n",
    "read_file.to_csv (\"Test.csv\", index = None, header=True) \n",
    "    \n",
    "# read csv file and convert  \n",
    "# into a dataframe object \n",
    "df = pd.DataFrame(pd.read_csv(\"Test.csv\")) \n",
    "  \n",
    "# show the dataframe \n",
    "#df\n",
    "\n",
    "\n",
    "\n",
    "# Correct the 'Date' column\n",
    "df = df.rename(columns={'Ã¯Â»Â¿Date': 'Date'})\n",
    "\n",
    "# Remove '-Ã¢â€šÂ¬' from all columns\n",
    "df = df.replace('-Ã¢â€šÂ¬', '', regex=True)\n",
    "df = df.replace('Ã¢â€šÂ¬', '', regex=True)\n",
    "\n",
    "# Replace NaN values with an empty string\n",
    "df = df.fillna('')\n",
    "\n",
    "\n",
    "# Create a figure and a set of subplots\n",
    "fig, ax = plt.subplots(figsize=(75, 58))  # Adjust the size as needed\n",
    "\n",
    "# Hide axes\n",
    "ax.axis('off')\n",
    "\n",
    "# Table from DataFrame\n",
    "table = ax.table(cellText=df.values, colLabels=df.columns, loc='center', cellLoc = 'center', bbox=[0,0,1,1])\n",
    "\n",
    "# Auto-adjust column widths\n",
    "table.auto_set_column_width(col=list(range(len(df.columns)))) \n",
    "\n",
    "# Adjust font size\n",
    "table.set_fontsize(21) \n",
    "\n",
    "# Save the figure as a PDF file\n",
    "plt.savefig('output.pdf', bbox_inches='tight')\n",
    "df.to_excel('output_excel.xlsx')\n",
    "\n"
   ]
  },
  {
   "cell_type": "code",
   "execution_count": null,
   "metadata": {},
   "outputs": [],
   "source": []
  },
  {
   "cell_type": "code",
   "execution_count": null,
   "metadata": {},
   "outputs": [],
   "source": []
  }
 ],
 "metadata": {
  "kernelspec": {
   "display_name": "Python 3",
   "language": "python",
   "name": "python3"
  },
  "language_info": {
   "codemirror_mode": {
    "name": "ipython",
    "version": 3
   },
   "file_extension": ".py",
   "mimetype": "text/x-python",
   "name": "python",
   "nbconvert_exporter": "python",
   "pygments_lexer": "ipython3",
   "version": "3.9.6"
  }
 },
 "nbformat": 4,
 "nbformat_minor": 2
}
